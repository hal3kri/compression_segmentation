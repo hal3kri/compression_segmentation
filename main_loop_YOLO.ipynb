{
 "cells": [
  {
   "cell_type": "code",
   "execution_count": 1,
   "metadata": {},
   "outputs": [],
   "source": [
    "# TODO\n",
    "# 1) create loop for training models\n",
    "# 2) test model and calculate IOU"
   ]
  },
  {
   "cell_type": "markdown",
   "metadata": {},
   "source": [
    "Import Libraries"
   ]
  },
  {
   "cell_type": "code",
   "execution_count": 1,
   "metadata": {},
   "outputs": [],
   "source": [
    "import shutil\n",
    "import zipfile\n",
    "import os\n",
    "import ultralytics\n",
    "import numpy as np\n",
    "import pandas as pd\n",
    "from ultralytics import YOLO\n",
    "import torch\n",
    "import cv2"
   ]
  },
  {
   "cell_type": "markdown",
   "metadata": {},
   "source": [
    "Define Hyperparameters"
   ]
  },
  {
   "cell_type": "code",
   "execution_count": 2,
   "metadata": {},
   "outputs": [],
   "source": [
    "step_size = 200\n",
    "EPOCHS = 1\n",
    "# Determine device to use (GPU if available, otherwise CPU)\n",
    "DEVICE = torch.device('cuda' if torch.cuda.is_available() else 'cpu')"
   ]
  },
  {
   "cell_type": "markdown",
   "metadata": {},
   "source": [
    "Unzip dataset"
   ]
  },
  {
   "cell_type": "code",
   "execution_count": 9,
   "metadata": {},
   "outputs": [
    {
     "name": "stdout",
     "output_type": "stream",
     "text": [
      "Data path C:/Users/hal3k/OneDrive/Desktop/UNI/Bachelorarbeit/code_explanations/backup/YOLO_dataset.zip does exist\n",
      "Dataset folder 'excavator_dataset_YOLO' has been zipped successfully into 'C:/Users/hal3k/OneDrive/Desktop/UNI/Bachelorarbeit/code_explanations/backup/YOLO_dataset.zip'.\n"
     ]
    }
   ],
   "source": [
    "# Zip dataset\n",
    "# Define the paths\n",
    "dataset_folder = 'excavator_dataset_YOLO'  # The folder you want to zip\n",
    "dataset_path =\"C:/Users/hal3k/OneDrive/Desktop/UNI/Bachelorarbeit/code_explanations/backup/\"\n",
    "output_zip = os.path.join(dataset_path,'YOLO_dataset.zip')  # The output zip file\n",
    "if not os.path.exists(output_zip):\n",
    "        print(f\"Data path {output_zip} does not exist\")\n",
    "else:\n",
    "       print(f\"Data path {output_zip} does exist\") \n",
    "# Create the zip file\n",
    "shutil.make_archive(output_zip.replace('.zip', ''), 'zip', dataset_folder)\n",
    "\n",
    "print(f\"Dataset folder '{dataset_folder}' has been zipped successfully into '{output_zip}'.\")"
   ]
  },
  {
   "cell_type": "code",
   "execution_count": 10,
   "metadata": {},
   "outputs": [
    {
     "name": "stdout",
     "output_type": "stream",
     "text": [
      "Extracted to excavator_dataset_YOLO2\\\n"
     ]
    }
   ],
   "source": [
    "\n",
    "# Unzip Dataset\n",
    "zip_path = \"YOLO_dataset.zip\"\n",
    "extract_path = \"{}{}\".format(\"excavator_dataset_YOLO2\", os.sep)\n",
    "\n",
    "# Create the extraction directory if it doesn't exist\n",
    "os.makedirs(extract_path, exist_ok=True)\n",
    "\n",
    "# Open the zip file\n",
    "with zipfile.ZipFile(zip_path, 'r') as zip_ref:\n",
    "    # Extract all contents\n",
    "    zip_ref.extractall(extract_path)\n",
    "\n",
    "print(f\"Extracted to {extract_path}\")"
   ]
  },
  {
   "cell_type": "markdown",
   "metadata": {},
   "source": [
    "Convert Dataset to appropriate format\n"
   ]
  },
  {
   "cell_type": "code",
   "execution_count": 6,
   "metadata": {},
   "outputs": [],
   "source": [
    "# base_path = \"{}{}\".format(\"excavator_dataset_YOLO\", os.sep)\n",
    "# train_images_path = \"{}{}{}\".format(\"images\", os.sep, \"train\")\n",
    "# train_images_path = os.path.join(base_path, train_images_path)\n",
    "# train_masks_path = \"{}{}{}\".format(\"masks\", os.sep, \"train\")\n",
    "# train_masks_path = os.path.join(base_path, train_masks_path)\n",
    "# val_images_path = \"{}{}{}\".format(\"images\", os.sep, \"val\")\n",
    "# val_images_path = os.path.join(base_path, val_images_path)\n",
    "# val_masks_path = \"{}{}{}\".format(\"masks\", os.sep, \"val\")\n",
    "# val_masks_path = os.path.join(base_path, val_masks_path)\n",
    "# print(train_images_path)\n",
    "# print(train_masks_path)\n",
    "# print(val_images_path)\n",
    "# print(val_masks_path)"
   ]
  },
  {
   "cell_type": "code",
   "execution_count": 7,
   "metadata": {},
   "outputs": [],
   "source": [
    "# test_images_path = \"{}{}{}\".format(\"images\", os.sep, \"test\")\n",
    "# test_images_path = os.path.join(base_path, test_images_path)\n",
    "# test_masks_path = \"{}{}{}\".format(\"masks\", os.sep, \"test\")\n",
    "# test_masks_path = os.path.join(base_path, test_masks_path)\n",
    "# print(test_images_path)\n",
    "# print(test_masks_path)"
   ]
  },
  {
   "cell_type": "code",
   "execution_count": 8,
   "metadata": {},
   "outputs": [],
   "source": [
    "# # convert RGB masks to single channel\n",
    "# colors_map = {\n",
    "#         0: (0, 0, 0),\n",
    "#         1: (0, 183, 235),\n",
    "#         2: (255, 255, 0),\n",
    "#         3: (0, 16, 235),\n",
    "#         4: (199, 252, 0),\n",
    "#         5: (255, 0, 140),\n",
    "#         6: (14, 122, 254),\n",
    "#         7: (255, 171, 171),\n",
    "#         8: (254, 0, 86),\n",
    "#         9: (255, 0, 255),\n",
    "#         10: (128, 128, 0),\n",
    "#         11: (134, 34, 255),\n",
    "#     }\n",
    "# def rgb_to_class_id(mask_rgb, color_map):\n",
    "#     mask = np.zeros(mask_rgb.shape[:2], dtype=np.uint8)\n",
    "#     for class_id, color in color_map.items():\n",
    "#         color_mask = np.all(mask_rgb == color, axis=-1)\n",
    "#         mask[color_mask] = class_id\n",
    "#     return mask\n",
    "\n"
   ]
  },
  {
   "cell_type": "code",
   "execution_count": 9,
   "metadata": {},
   "outputs": [],
   "source": [
    "# import os\n",
    "# import cv2\n",
    "# import numpy as np\n",
    "# from pathlib import Path\n",
    "# from PIL import Image\n",
    "\n",
    "# def mask_to_yolo_format(mask, img_width, img_height):\n",
    "#     contours, _ = cv2.findContours(mask, cv2.RETR_EXTERNAL, cv2.CHAIN_APPROX_SIMPLE)\n",
    "#     yolo_annotations = []\n",
    "\n",
    "#     for contour in contours:\n",
    "#         if len(contour) > 0:\n",
    "#             # Convert contour to a flat list of coordinates\n",
    "#             segmentation = contour.flatten().tolist()\n",
    "#             segmentation = [float(p) / img_width if i % 2 == 0 else float(p) / img_height for i, p in enumerate(segmentation)]\n",
    "#             if len(segmentation) >= 6:  # Filter out invalid or too small polygons\n",
    "#                 yolo_annotations.append(segmentation)\n",
    "    \n",
    "#     return yolo_annotations\n",
    "\n",
    "# def convert_masks_to_yolo(mask_dir, output_dir, img_dir):\n",
    "#     Path(output_dir).mkdir(parents=True, exist_ok=True)\n",
    "\n",
    "#     mask_files = [f for f in os.listdir(mask_dir) if f.endswith('.png')]\n",
    "    \n",
    "#     for mask_file in mask_files:\n",
    "#         mask_path = os.path.join(mask_dir, mask_file)\n",
    "#         mask_rgb = cv2.imread(mask_path)\n",
    "#         # DEBUG: \n",
    "#         # print(mask_rgb.shape)\n",
    "#         mask = rgb_to_class_id(mask_rgb, colors_map)\n",
    "#         # DEBUG: print(mask)\n",
    "#         img_path = os.path.join(img_dir, mask_file.replace('.png', '.jpg'))\n",
    "        \n",
    "#         # Ensure the corresponding image exists\n",
    "#         if not os.path.exists(img_path):\n",
    "#             continue\n",
    "        \n",
    "#         img = cv2.imread(img_path)\n",
    "#         img_height, img_width = img.shape[:2]\n",
    "        \n",
    "#         # Get unique class values in the mask\n",
    "#         class_values = np.unique(mask)\n",
    "#         # DEBUG: print(class_values)\n",
    "\n",
    "#         with open(os.path.join(output_dir, mask_file.replace('.png', '.txt')), 'w') as file:\n",
    "#             for class_value in class_values:\n",
    "#                 if class_value == 0:\n",
    "#                     continue  # Skip background\n",
    "                \n",
    "#                 binary_mask = (mask == class_value).astype(np.uint8)\n",
    "#                 yolo_annotations = mask_to_yolo_format(binary_mask, img_width, img_height)\n",
    "                \n",
    "#                 for annotation in yolo_annotations:\n",
    "#                     file.write(f'{class_value} ' + ' '.join(map(str, annotation)) + '\\n')\n",
    "\n",
    "# # Define paths\n",
    "# output_dir_train = \"{}{}{}{}{}{}{}\".format('datasets', os.sep,'excavator_dataset_YOLO', os.sep, 'labels', os.sep, 'train')\n",
    "# output_dir_val = \"{}{}{}{}{}{}{}\".format('datasets', os.sep,'excavator_dataset_YOLO', os.sep, 'labels', os.sep, 'val')\n",
    "# output_dir_test = \"{}{}{}{}{}{}{}\".format('datasets', os.sep,'excavator_dataset_YOLO', os.sep, 'labels', os.sep, 'test')"
   ]
  },
  {
   "cell_type": "markdown",
   "metadata": {},
   "source": [
    "Create a single YOLO model"
   ]
  },
  {
   "cell_type": "code",
   "execution_count": 3,
   "metadata": {},
   "outputs": [],
   "source": [
    "# from ultralytics import YOLO\n",
    "\n",
    "# Load the YOLOv8 segmentation model (you can load from a YAML or a pretrained model)\n",
    "model_YOLO = YOLO(\"yolov8n-seg.pt\")  # load a pretrained segmentation model"
   ]
  },
  {
   "cell_type": "code",
   "execution_count": 5,
   "metadata": {},
   "outputs": [
    {
     "name": "stdout",
     "output_type": "stream",
     "text": [
      "Ultralytics YOLOv8.2.70  Python-3.11.9 torch-2.0.1+cu117 CUDA:0 (NVIDIA GeForce RTX 3050 Laptop GPU, 4096MiB)\n",
      "\u001b[34m\u001b[1mengine\\trainer: \u001b[0mtask=segment, mode=train, model=yolov8n-seg.pt, data=excavators.yaml, epochs=1, time=None, patience=100, batch=16, imgsz=640, save=True, save_period=-1, cache=False, device=None, workers=8, project=None, name=1, exist_ok=False, pretrained=True, optimizer=auto, verbose=True, seed=0, deterministic=True, single_cls=False, rect=False, cos_lr=False, close_mosaic=10, resume=False, amp=True, fraction=1.0, profile=False, freeze=None, multi_scale=False, overlap_mask=True, mask_ratio=4, dropout=0.0, val=True, split=val, save_json=False, save_hybrid=False, conf=None, iou=0.7, max_det=300, half=False, dnn=False, plots=True, source=None, vid_stride=1, stream_buffer=False, visualize=False, augment=False, agnostic_nms=False, classes=None, retina_masks=False, embed=None, show=False, save_frames=False, save_txt=False, save_conf=False, save_crop=False, show_labels=True, show_conf=True, show_boxes=True, line_width=None, format=torchscript, keras=False, optimize=False, int8=False, dynamic=False, simplify=False, opset=None, workspace=4, nms=False, lr0=0.01, lrf=0.01, momentum=0.937, weight_decay=0.0005, warmup_epochs=3.0, warmup_momentum=0.8, warmup_bias_lr=0.1, box=7.5, cls=0.5, dfl=1.5, pose=12.0, kobj=1.0, label_smoothing=0.0, nbs=64, hsv_h=0.015, hsv_s=0.7, hsv_v=0.4, degrees=0.0, translate=0.1, scale=0.5, shear=0.0, perspective=0.0, flipud=0.0, fliplr=0.5, bgr=0.0, mosaic=1.0, mixup=0.0, copy_paste=0.0, auto_augment=randaugment, erasing=0.4, crop_fraction=1.0, cfg=None, tracker=botsort.yaml, save_dir=runs\\segment\\1\n",
      "\n",
      "                   from  n    params  module                                       arguments                     \n",
      "  0                  -1  1       464  ultralytics.nn.modules.conv.Conv             [3, 16, 3, 2]                 \n",
      "  1                  -1  1      4672  ultralytics.nn.modules.conv.Conv             [16, 32, 3, 2]                \n",
      "  2                  -1  1      7360  ultralytics.nn.modules.block.C2f             [32, 32, 1, True]             \n",
      "  3                  -1  1     18560  ultralytics.nn.modules.conv.Conv             [32, 64, 3, 2]                \n",
      "  4                  -1  2     49664  ultralytics.nn.modules.block.C2f             [64, 64, 2, True]             \n",
      "  5                  -1  1     73984  ultralytics.nn.modules.conv.Conv             [64, 128, 3, 2]               \n",
      "  6                  -1  2    197632  ultralytics.nn.modules.block.C2f             [128, 128, 2, True]           \n",
      "  7                  -1  1    295424  ultralytics.nn.modules.conv.Conv             [128, 256, 3, 2]              \n",
      "  8                  -1  1    460288  ultralytics.nn.modules.block.C2f             [256, 256, 1, True]           \n",
      "  9                  -1  1    164608  ultralytics.nn.modules.block.SPPF            [256, 256, 5]                 \n",
      " 10                  -1  1         0  torch.nn.modules.upsampling.Upsample         [None, 2, 'nearest']          \n",
      " 11             [-1, 6]  1         0  ultralytics.nn.modules.conv.Concat           [1]                           \n",
      " 12                  -1  1    148224  ultralytics.nn.modules.block.C2f             [384, 128, 1]                 \n",
      " 13                  -1  1         0  torch.nn.modules.upsampling.Upsample         [None, 2, 'nearest']          \n",
      " 14             [-1, 4]  1         0  ultralytics.nn.modules.conv.Concat           [1]                           \n",
      " 15                  -1  1     37248  ultralytics.nn.modules.block.C2f             [192, 64, 1]                  \n",
      " 16                  -1  1     36992  ultralytics.nn.modules.conv.Conv             [64, 64, 3, 2]                \n",
      " 17            [-1, 12]  1         0  ultralytics.nn.modules.conv.Concat           [1]                           \n",
      " 18                  -1  1    123648  ultralytics.nn.modules.block.C2f             [192, 128, 1]                 \n",
      " 19                  -1  1    147712  ultralytics.nn.modules.conv.Conv             [128, 128, 3, 2]              \n",
      " 20             [-1, 9]  1         0  ultralytics.nn.modules.conv.Concat           [1]                           \n",
      " 21                  -1  1    493056  ultralytics.nn.modules.block.C2f             [384, 256, 1]                 \n",
      " 22        [15, 18, 21]  1   1006420  ultralytics.nn.modules.head.Segment          [12, 32, 64, [64, 128, 256]]  \n",
      "YOLOv8n-seg summary: 261 layers, 3,265,956 parameters, 3,265,940 gradients, 12.1 GFLOPs\n",
      "\n",
      "Transferred 417/417 items from pretrained weights\n",
      "Freezing layer 'model.22.dfl.conv.weight'\n",
      "\u001b[34m\u001b[1mAMP: \u001b[0mrunning Automatic Mixed Precision (AMP) checks with YOLOv8n...\n",
      "\u001b[34m\u001b[1mAMP: \u001b[0mchecks passed \n"
     ]
    },
    {
     "name": "stderr",
     "output_type": "stream",
     "text": [
      "\u001b[34m\u001b[1mtrain: \u001b[0mScanning C:\\Users\\hal3k\\deeplabv3segmentation\\excavator_dataset_YOLO\\labels\\train.cache... 616 images, 2 backgrounds, 0 corrupt: 100%|██████████| 616/616 [00:00<?, ?it/s]\n",
      "c:\\Users\\hal3k\\deeplabv3segmentation\\.venv\\Lib\\site-packages\\tqdm\\auto.py:21: TqdmWarning: IProgress not found. Please update jupyter and ipywidgets. See https://ipywidgets.readthedocs.io/en/stable/user_install.html\n",
      "  from .autonotebook import tqdm as notebook_tqdm\n",
      "ERROR:albumentations.check_version:Error fetching version info\n",
      "Traceback (most recent call last):\n",
      "  File \"C:\\Program Files\\WindowsApps\\PythonSoftwareFoundation.Python.3.11_3.11.2544.0_x64__qbz5n2kfra8p0\\Lib\\urllib\\request.py\", line 1348, in do_open\n",
      "    h.request(req.get_method(), req.selector, req.data, headers,\n",
      "  File \"C:\\Program Files\\WindowsApps\\PythonSoftwareFoundation.Python.3.11_3.11.2544.0_x64__qbz5n2kfra8p0\\Lib\\http\\client.py\", line 1303, in request\n",
      "    self._send_request(method, url, body, headers, encode_chunked)\n",
      "  File \"C:\\Program Files\\WindowsApps\\PythonSoftwareFoundation.Python.3.11_3.11.2544.0_x64__qbz5n2kfra8p0\\Lib\\http\\client.py\", line 1349, in _send_request\n",
      "    self.endheaders(body, encode_chunked=encode_chunked)\n",
      "  File \"C:\\Program Files\\WindowsApps\\PythonSoftwareFoundation.Python.3.11_3.11.2544.0_x64__qbz5n2kfra8p0\\Lib\\http\\client.py\", line 1298, in endheaders\n",
      "    self._send_output(message_body, encode_chunked=encode_chunked)\n",
      "  File \"C:\\Program Files\\WindowsApps\\PythonSoftwareFoundation.Python.3.11_3.11.2544.0_x64__qbz5n2kfra8p0\\Lib\\http\\client.py\", line 1058, in _send_output\n",
      "    self.send(msg)\n",
      "  File \"C:\\Program Files\\WindowsApps\\PythonSoftwareFoundation.Python.3.11_3.11.2544.0_x64__qbz5n2kfra8p0\\Lib\\http\\client.py\", line 996, in send\n",
      "    self.connect()\n",
      "  File \"C:\\Program Files\\WindowsApps\\PythonSoftwareFoundation.Python.3.11_3.11.2544.0_x64__qbz5n2kfra8p0\\Lib\\http\\client.py\", line 1468, in connect\n",
      "    super().connect()\n",
      "  File \"C:\\Program Files\\WindowsApps\\PythonSoftwareFoundation.Python.3.11_3.11.2544.0_x64__qbz5n2kfra8p0\\Lib\\http\\client.py\", line 962, in connect\n",
      "    self.sock = self._create_connection(\n",
      "                ^^^^^^^^^^^^^^^^^^^^^^^^\n",
      "  File \"C:\\Program Files\\WindowsApps\\PythonSoftwareFoundation.Python.3.11_3.11.2544.0_x64__qbz5n2kfra8p0\\Lib\\socket.py\", line 827, in create_connection\n",
      "    for res in getaddrinfo(host, port, 0, SOCK_STREAM):\n",
      "               ^^^^^^^^^^^^^^^^^^^^^^^^^^^^^^^^^^^^^^^\n",
      "  File \"C:\\Program Files\\WindowsApps\\PythonSoftwareFoundation.Python.3.11_3.11.2544.0_x64__qbz5n2kfra8p0\\Lib\\socket.py\", line 962, in getaddrinfo\n",
      "    for res in _socket.getaddrinfo(host, port, family, type, proto, flags):\n",
      "               ^^^^^^^^^^^^^^^^^^^^^^^^^^^^^^^^^^^^^^^^^^^^^^^^^^^^^^^^^^^\n",
      "socket.gaierror: [Errno 11001] getaddrinfo failed\n",
      "\n",
      "During handling of the above exception, another exception occurred:\n",
      "\n",
      "Traceback (most recent call last):\n",
      "  File \"c:\\Users\\hal3k\\deeplabv3segmentation\\.venv\\Lib\\site-packages\\albumentations\\check_version.py\", line 29, in fetch_version_info\n",
      "    with opener.open(url, timeout=2) as response:\n",
      "         ^^^^^^^^^^^^^^^^^^^^^^^^^^^\n",
      "  File \"C:\\Program Files\\WindowsApps\\PythonSoftwareFoundation.Python.3.11_3.11.2544.0_x64__qbz5n2kfra8p0\\Lib\\urllib\\request.py\", line 519, in open\n",
      "    response = self._open(req, data)\n",
      "               ^^^^^^^^^^^^^^^^^^^^^\n",
      "  File \"C:\\Program Files\\WindowsApps\\PythonSoftwareFoundation.Python.3.11_3.11.2544.0_x64__qbz5n2kfra8p0\\Lib\\urllib\\request.py\", line 536, in _open\n",
      "    result = self._call_chain(self.handle_open, protocol, protocol +\n",
      "             ^^^^^^^^^^^^^^^^^^^^^^^^^^^^^^^^^^^^^^^^^^^^^^^^^^^^^^^\n",
      "  File \"C:\\Program Files\\WindowsApps\\PythonSoftwareFoundation.Python.3.11_3.11.2544.0_x64__qbz5n2kfra8p0\\Lib\\urllib\\request.py\", line 496, in _call_chain\n",
      "    result = func(*args)\n",
      "             ^^^^^^^^^^^\n",
      "  File \"C:\\Program Files\\WindowsApps\\PythonSoftwareFoundation.Python.3.11_3.11.2544.0_x64__qbz5n2kfra8p0\\Lib\\urllib\\request.py\", line 1391, in https_open\n",
      "    return self.do_open(http.client.HTTPSConnection, req,\n",
      "           ^^^^^^^^^^^^^^^^^^^^^^^^^^^^^^^^^^^^^^^^^^^^^^\n",
      "  File \"C:\\Program Files\\WindowsApps\\PythonSoftwareFoundation.Python.3.11_3.11.2544.0_x64__qbz5n2kfra8p0\\Lib\\urllib\\request.py\", line 1351, in do_open\n",
      "    raise URLError(err)\n",
      "urllib.error.URLError: <urlopen error [Errno 11001] getaddrinfo failed>\n"
     ]
    },
    {
     "name": "stdout",
     "output_type": "stream",
     "text": [
      "\u001b[34m\u001b[1malbumentations: \u001b[0mBlur(p=0.01, blur_limit=(3, 7)), MedianBlur(p=0.01, blur_limit=(3, 7)), ToGray(p=0.01), CLAHE(p=0.01, clip_limit=(1, 4.0), tile_grid_size=(8, 8))\n"
     ]
    },
    {
     "name": "stderr",
     "output_type": "stream",
     "text": [
      "\u001b[34m\u001b[1mval: \u001b[0mScanning C:\\Users\\hal3k\\deeplabv3segmentation\\excavator_dataset_YOLO\\labels\\val.cache... 116 images, 0 backgrounds, 0 corrupt: 100%|██████████| 116/116 [00:00<?, ?it/s]\n"
     ]
    },
    {
     "name": "stdout",
     "output_type": "stream",
     "text": [
      "Plotting labels to runs\\segment\\1\\labels.jpg... \n",
      "\u001b[34m\u001b[1moptimizer:\u001b[0m 'optimizer=auto' found, ignoring 'lr0=0.01' and 'momentum=0.937' and determining best 'optimizer', 'lr0' and 'momentum' automatically... \n",
      "\u001b[34m\u001b[1moptimizer:\u001b[0m AdamW(lr=0.000625, momentum=0.9) with parameter groups 66 weight(decay=0.0), 77 weight(decay=0.0005), 76 bias(decay=0.0)\n",
      "Image sizes 640 train, 640 val\n",
      "Using 8 dataloader workers\n",
      "Logging results to \u001b[1mruns\\segment\\1\u001b[0m\n",
      "Starting training for 1 epochs...\n",
      "\n",
      "      Epoch    GPU_mem   box_loss   seg_loss   cls_loss   dfl_loss  Instances       Size\n"
     ]
    },
    {
     "name": "stderr",
     "output_type": "stream",
     "text": [
      "        1/1      2.98G       1.16      2.534      3.661      1.282         37        640: 100%|██████████| 39/39 [00:18<00:00,  2.13it/s]\n",
      "                 Class     Images  Instances      Box(P          R      mAP50  mAP50-95)     Mask(P          R      mAP50  mAP50-95): 100%|██████████| 4/4 [00:03<00:00,  1.01it/s]\n"
     ]
    },
    {
     "name": "stdout",
     "output_type": "stream",
     "text": [
      "                   all        116        395     0.0141      0.423     0.0902     0.0615     0.0139      0.403     0.0727     0.0376\n",
      "\n",
      "1 epochs completed in 0.008 hours.\n",
      "Optimizer stripped from runs\\segment\\1\\weights\\last.pt, 6.8MB\n",
      "Optimizer stripped from runs\\segment\\1\\weights\\best.pt, 6.8MB\n",
      "\n",
      "Validating runs\\segment\\1\\weights\\best.pt...\n",
      "Ultralytics YOLOv8.2.70  Python-3.11.9 torch-2.0.1+cu117 CUDA:0 (NVIDIA GeForce RTX 3050 Laptop GPU, 4096MiB)\n",
      "YOLOv8n-seg summary (fused): 195 layers, 3,260,404 parameters, 0 gradients, 12.0 GFLOPs\n"
     ]
    },
    {
     "name": "stderr",
     "output_type": "stream",
     "text": [
      "                 Class     Images  Instances      Box(P          R      mAP50  mAP50-95)     Mask(P          R      mAP50  mAP50-95): 100%|██████████| 4/4 [00:02<00:00,  1.39it/s]\n"
     ]
    },
    {
     "name": "stdout",
     "output_type": "stream",
     "text": [
      "                   all        116        395     0.0141      0.423     0.0901     0.0613     0.0139      0.403     0.0778     0.0383\n",
      "             bulldozer          6          7          0          0          0          0          0          0          0          0\n",
      "                   car         10         50    0.00101       0.06   0.000688   0.000133    0.00135       0.08    0.00117   0.000446\n",
      "           caterpillar         46         70     0.0247      0.586     0.0752     0.0397     0.0241      0.571     0.0694     0.0338\n",
      "                 crane         24         33      0.023       0.97      0.465      0.322     0.0201      0.848      0.343      0.117\n",
      "               crusher         11         12    0.00134      0.417    0.00959    0.00634    0.00107      0.333    0.00944    0.00543\n",
      "               driller          4          4          0          0          0          0          0          0          0          0\n",
      "             excavator         23         56     0.0378      0.607     0.0881     0.0545     0.0389      0.625     0.0881     0.0382\n",
      "                 human         13         24    0.00203      0.125    0.00127   0.000618    0.00135     0.0833   0.000792   0.000713\n",
      "                roller         26         26     0.0137      0.692     0.0693     0.0513     0.0137      0.692     0.0693     0.0478\n",
      "               tractor          6         12    0.00506      0.417    0.00894    0.00437    0.00506      0.417    0.00894    0.00322\n",
      "                 truck         66        101     0.0469      0.782      0.273      0.195     0.0469      0.782      0.266      0.174\n",
      "Speed: 2.7ms preprocess, 5.2ms inference, 0.0ms loss, 3.1ms postprocess per image\n",
      "Results saved to \u001b[1mruns\\segment\\1\u001b[0m\n"
     ]
    }
   ],
   "source": [
    "# Train the model\n",
    "results = model_YOLO.train(data=\"excavators.yaml\", epochs=EPOCHS, imgsz=640, name = \"1\")"
   ]
  },
  {
   "cell_type": "code",
   "execution_count": 7,
   "metadata": {},
   "outputs": [],
   "source": [
    "import matplotlib.pyplot as plt\n",
    "%matplotlib inline\n",
    "def plot_training_data(q):\n",
    "    # Load the CSV file containing loss data\n",
    "    log_file = \"{}{}{}{}{}{}{}\".format('runs',os.sep,'segment', os.sep, str(q), os.sep,'results.csv')\n",
    "    # Load the dataset\n",
    "    data = pd.read_csv(log_file)\n",
    "\n",
    "    # Clean column names\n",
    "    data.columns = data.columns.str.strip()\n",
    "\n",
    "    # Ensure data is of the correct type\n",
    "    data['epoch'] = pd.to_numeric(data['epoch'], errors='coerce')\n",
    "    data['val/seg_loss'] = pd.to_numeric(data['val/seg_loss'], errors='coerce')\n",
    "    data['metrics/mAP50(M)'] = pd.to_numeric(data['metrics/mAP50(M)'], errors='coerce')\n",
    "\n",
    "    # Extract data\n",
    "    epochs = data['epoch']\n",
    "    seg_loss = data['val/seg_loss']\n",
    "    mAP50_M = data['metrics/mAP50(M)']\n",
    "    epoch_values = []\n",
    "    seg_loss_values =[]\n",
    "    mAP_values =[]\n",
    "    # Print the extracted data\n",
    "    # print(\"epochs:\", epochs, epochs.shape)\n",
    "    # print(\"seg_loss:\", seg_loss, seg_loss.shape)\n",
    "    # print(\"mAP50_M:\", mAP50_M, mAP50_M.shape)\n",
    "    # skim out unnneeded values:\n",
    "    for value in seg_loss:\n",
    "        seg_loss_values.append(value)\n",
    "    for value in epochs:\n",
    "        epoch_values.append(value)\n",
    "    for value in mAP50_M:\n",
    "        mAP_values.append(value)\n",
    "    # Print the extracted data\n",
    "    print(\"epochs:\", epoch_values)\n",
    "    print(\"seg_loss:\", seg_loss_values)\n",
    "    print(\"mAP50_M:\", mAP_values)\n",
    "\n",
    "    # Create a figure with specific size\n",
    "    fig, axes = plt.subplots(1, 2, figsize=(16, 8))  # Adjust the figsize as needed\n",
    "\n",
    "    # Plot Segmentation Loss\n",
    "    axes[0].plot(epochs, seg_loss, marker='o', linestyle='-', color='r')\n",
    "    axes[0].set_title('Validation Segmentation Loss', fontsize=16)\n",
    "    axes[0].set_xlabel('Epoch', fontsize=14)\n",
    "    axes[0].set_ylabel('Segmentation Loss', fontsize=14)\n",
    "    axes[0].grid(True)\n",
    "\n",
    "    # Plot mAP50(M)\n",
    "    axes[1].plot(epochs, mAP50_M, marker='o', linestyle='-', color='b')\n",
    "    axes[1].set_title('mAP50(M)', fontsize=16)\n",
    "    axes[1].set_xlabel('Epoch', fontsize=14)\n",
    "    axes[1].set_ylabel('mAP50(M)', fontsize=14)\n",
    "    axes[1].grid(True)\n",
    "\n",
    "\n",
    "    plt.suptitle(f\"YOLO model trained on quality = {q} \", fontsize=18)\n",
    "\n",
    "    # Adjust layout and show the plot\n",
    "    plt.tight_layout(rect=[0, 0.03, 1, 0.95])  # Adjust the layout to accommodate the super title\n",
    "    save_dir = os.path.join('Results', 'YOLO', 'train')\n",
    "    save_path = os.path.join(save_dir, f'training_data_plot_quality_{q}.png')\n",
    "    os.makedirs(save_dir, exist_ok=True)\n",
    "    plt.savefig(save_path)  # Save the figure\n",
    "    print(f\"Plot saved to {save_path}\")\n"
   ]
  },
  {
   "cell_type": "code",
   "execution_count": 8,
   "metadata": {},
   "outputs": [
    {
     "name": "stdout",
     "output_type": "stream",
     "text": [
      "epochs: [1]\n",
      "seg_loss: [2.2124]\n",
      "mAP50_M: [0.07273]\n",
      "Plot saved to Results\\YOLO\\train\\training_data_plot_quality_1.png\n"
     ]
    },
    {
     "data": {
      "image/png": "[encoded data removed]",
      "text/plain": [
       "<Figure size 1600x800 with 2 Axes>"
      ]
     },
     "metadata": {},
     "output_type": "display_data"
    }
   ],
   "source": [
    "plot_training_data(1)"
   ]
  },
  {
   "cell_type": "code",
   "execution_count": 13,
   "metadata": {},
   "outputs": [],
   "source": [
    "# # Define save directory and file paths\n",
    "# q = 0\n",
    "# save_directory = \"{}{}{}\".format(\"models\", os.sep, \"best_models_YOLO\")\n",
    "# YOLO_save_dir = \"{}{}{}\".format(save_directory, os.sep, \"{}.pth\".format(q))\n",
    "# YOLO_jit_save_dir = \"{}{}{}\".format(save_directory, os.sep, \"{}.pt\".format(q))\n",
    "# os.makedirs(save_directory, exist_ok=True)\n",
    "\n",
    "# # Save the model\n",
    "# model_YOLO.save(YOLO_save_dir)"
   ]
  },
  {
   "cell_type": "markdown",
   "metadata": {},
   "source": [
    "Compress YOLO dataset\n"
   ]
  },
  {
   "cell_type": "code",
   "execution_count": 9,
   "metadata": {},
   "outputs": [],
   "source": [
    "import shutil\n",
    "import os\n",
    "import yaml\n",
    "# Copy function to copy YOLO masks\n",
    "# def copy_files(source_dir, dest_dir):\n",
    "#     # Ensure the destination directory exists\n",
    "#     if not os.path.exists(dest_dir):\n",
    "#         os.makedirs(dest_dir)\n",
    "\n",
    "#     # Iterate over all files in the source directory\n",
    "#     for filename in os.listdir(source_dir):\n",
    "#         source_file = os.path.join(source_dir, filename)\n",
    "#         dest_file = os.path.join(dest_dir, filename)\n",
    "#         # Check if it is a file\n",
    "#         if os.path.isfile(source_file):\n",
    "#             shutil.copy(source_file, dest_file)\n",
    "#             print(f\"Copied {filename} to {dest_dir}\")\n",
    "\n",
    "# for q in range(0,101,1):\n",
    "#     base_dest_dir = \"{}{}{}{}{}\".format('excavator_dataset_YOLO',os.sep, str(q),os.sep,'masks')\n",
    "#     base_source_dir = \"{}{}{}\".format('excavator_dataset_YOLO',os.sep,'masks')\n",
    "#     statuses = ['train', 'val', 'test']\n",
    "#     for status in statuses:\n",
    "#         dest_dir = os.path.join(base_dest_dir, status)\n",
    "#         source_dir = os.path.join(base_source_dir,status)\n",
    "#         os.makedirs(dest_dir, exist_ok=True)\n",
    "#         copy_files(source_dir, dest_dir)\n",
    "        \n",
    "\n",
    "def create_yaml(q, directory):\n",
    "    data = {\n",
    "    'path': '../excavator_dataset_yolo',\n",
    "    'train': str(q)+\"/images/train\",\n",
    "    'val': str(q)+\"/images/val\",\n",
    "    'test': str(q)+\"/images/test\",\n",
    "    'names': {\n",
    "        0: 'background',\n",
    "        1: 'bulldozer',\n",
    "        2: 'car',\n",
    "        3: 'caterpillar',\n",
    "        4: 'crane',\n",
    "        5: 'crusher',\n",
    "        6: 'driller',\n",
    "        7: 'excavator',\n",
    "        8: 'human',\n",
    "        9: 'roller',\n",
    "        10: 'tractor',\n",
    "        11: 'truck',   # class names\n",
    "        # Add more classes as needed\n",
    "    },\n",
    "    }\n",
    "    filename = 'excavators.yaml'\n",
    "    file_path = os.path.join(directory, filename)\n",
    "\n",
    "    # Ensure the directory exists\n",
    "    os.makedirs(directory, exist_ok=True)\n",
    "\n",
    "    # Write to the .yaml file\n",
    "    with open(file_path, 'w') as file:\n",
    "        yaml.dump(data, file, default_flow_style=False)\n"
   ]
  },
  {
   "cell_type": "code",
   "execution_count": 9,
   "metadata": {},
   "outputs": [],
   "source": [
    "# create new yaml files\n",
    "# for quality_value in range(0,101,1):\n",
    "#     new_folder = \"{}{}{}\".format(\"excavator_dataset_YOLO\", os.sep, str(quality_value))\n",
    "#     create_yaml(quality_value, new_folder)"
   ]
  },
  {
   "cell_type": "code",
   "execution_count": 15,
   "metadata": {},
   "outputs": [],
   "source": [
    "# def compress_YOLO_dataset(image_raw_path, status):\n",
    "#     base_folder = \"{}\".format(\"excavator_dataset_YOLO\")\n",
    "#     labels_base_folder = \"{}{}{}{}{}\".format(\"excavator_dataset_YOLO\", os.sep, \"labels\", os.sep, status)\n",
    "#     for quality_value in range(0,101,1):\n",
    "#         quality_dir = os.path.join(base_folder, str(quality_value))\n",
    "#         os.makedirs(quality_dir, exist_ok=True)\n",
    "#         for image_file_name in os.listdir(image_raw_path):\n",
    "#             image_path = os.path.join(image_raw_path, image_file_name)\n",
    "#             if not image_file_name.lower().endswith(('.png', '.jpg', '.jpeg')):\n",
    "#                 print(f\"Skipping {image_file_name}: Not a valid image file\")\n",
    "#                 continue\n",
    "\n",
    "#             image = cv2.imread(image_path)\n",
    "#             if image is None:\n",
    "#                 print(f\"Skipping {image_file_name}: Unable to read the image\")\n",
    "#                 continue\n",
    "\n",
    "#             # Define the output file path\n",
    "#             output_folder = os.path.join(base_folder, str(quality_value), \"images\", status)\n",
    "#             os.makedirs(output_folder, exist_ok=True)\n",
    "#             output_file_path = os.path.join(output_folder, f\"{image_file_name}\")\n",
    "            \n",
    "#             # Write the image with the specified JPEG quality\n",
    "#             success = cv2.imwrite(output_file_path, image, [cv2.IMWRITE_JPEG_QUALITY, quality_value])\n",
    "            \n",
    "#             if not success:\n",
    "#                 print(f\"Failed to save {output_file_path}\")\n",
    "#             else:\n",
    "#                 print(f\"Saved {output_file_path} with quality {quality_value}\")\n",
    "#         #  copy labels\n",
    "#         labels_base_folder = \"{}{}{}{}{}\".format(\"excavator_dataset_YOLO\", os.sep, \"labels\", os.sep, status)\n",
    "#         labels_new_folder = \"{}{}{}{}{}{}{}\".format(\"excavator_dataset_YOLO\", os.sep, str(quality_value), os.sep, \"labels\", os.sep, status)\n",
    "#         copy_files(labels_base_folder,labels_new_folder)\n",
    "        \n",
    "#         #create .yaml file\n",
    "#         new_folder = \"{}{}{}\".format(\"excavator_dataset_YOLO\", os.sep, str(quality_value))\n",
    "#         create_yaml(quality_value, new_folder)\n",
    "\n",
    "    \n",
    "            "
   ]
  },
  {
   "cell_type": "code",
   "execution_count": 16,
   "metadata": {},
   "outputs": [],
   "source": [
    "# test_images_path = \"{}{}{}{}{}\".format(\"excavator_dataset_YOLO\", os.sep, \"images\", os.sep, \"test\")\n",
    "# compress_YOLO_dataset(val_images_path, \"test\")"
   ]
  },
  {
   "cell_type": "code",
   "execution_count": 17,
   "metadata": {},
   "outputs": [],
   "source": [
    "# val_images_path = \"{}{}{}{}{}\".format(\"excavator_dataset_YOLO\", os.sep, \"images\", os.sep, \"val\")\n",
    "# compress_YOLO_dataset(val_images_path, \"val\")"
   ]
  },
  {
   "cell_type": "code",
   "execution_count": 18,
   "metadata": {},
   "outputs": [],
   "source": [
    "# images_path = \"{}{}{}{}{}\".format(\"excavator_dataset_YOLO\", os.sep, \"images\", os.sep, \"train\")\n",
    "# compress_YOLO_dataset(images_path, \"train\")"
   ]
  },
  {
   "cell_type": "markdown",
   "metadata": {},
   "source": [
    "Training loop"
   ]
  },
  {
   "cell_type": "code",
   "execution_count": 14,
   "metadata": {},
   "outputs": [],
   "source": [
    "def training_loop_YOLO():\n",
    "    base_path = 'excavator_dataset_YOLO'\n",
    "    for q in range(0,101,step_size):\n",
    "        # create an instance of the yolo segmentation model\n",
    "        model_YOLO = YOLO(\"yolov8n-seg.pt\")\n",
    "        # train the model\n",
    "        data_path = os.path.join(base_path, str(q), \"excavators.yaml\")\n",
    "        results = model_YOLO.train(data=data_path, epochs=EPOCHS, imgsz=640, batch = 2, name = str(q))\n",
    "        save_directory = \"{}{}{}\".format(\"models\", os.sep, \"best_models_YOLO\")\n",
    "        YOLO_save_dir = \"{}{}{}\".format(save_directory, os.sep, \"{}.pt\".format(q))\n",
    "        YOLO_jit_save_dir = \"{}{}{}\".format(save_directory, os.sep, \"{}.pt\".format(q))\n",
    "        os.makedirs(save_directory, exist_ok=True)\n",
    "\n",
    "        # Save the model\n",
    "        model_YOLO.save(YOLO_save_dir)\n",
    "        # plot and save training data\n",
    "        plot_training_data(q)\n",
    "        \n"
   ]
  },
  {
   "cell_type": "code",
   "execution_count": 15,
   "metadata": {},
   "outputs": [
    {
     "name": "stdout",
     "output_type": "stream",
     "text": [
      "None\n"
     ]
    }
   ],
   "source": [
    "# Print the name of the GPU\n",
    "if torch.cuda.is_available():\n",
    "    print(\"GPU Name:\", torch.cuda.get_device_name(0))\n",
    "print(torch.version.cuda)"
   ]
  },
  {
   "cell_type": "code",
   "execution_count": 16,
   "metadata": {},
   "outputs": [
    {
     "name": "stdout",
     "output_type": "stream",
     "text": [
      "New https://pypi.org/project/ultralytics/8.2.78 available  Update with 'pip install -U ultralytics'\n",
      "Ultralytics YOLOv8.2.75  Python-3.11.9 torch-2.3.1+cpu CPU (AMD Ryzen 9 5900HS with Radeon Graphics)\n",
      "\u001b[34m\u001b[1mengine\\trainer: \u001b[0mtask=segment, mode=train, model=yolov8n-seg.pt, data=excavator_dataset_YOLO\\0\\excavators.yaml, epochs=1, time=None, patience=100, batch=2, imgsz=640, save=True, save_period=-1, cache=False, device=None, workers=8, project=None, name=03, exist_ok=False, pretrained=True, optimizer=auto, verbose=True, seed=0, deterministic=True, single_cls=False, rect=False, cos_lr=False, close_mosaic=10, resume=False, amp=True, fraction=1.0, profile=False, freeze=None, multi_scale=False, overlap_mask=True, mask_ratio=4, dropout=0.0, val=True, split=val, save_json=False, save_hybrid=False, conf=None, iou=0.7, max_det=300, half=False, dnn=False, plots=True, source=None, vid_stride=1, stream_buffer=False, visualize=False, augment=False, agnostic_nms=False, classes=None, retina_masks=False, embed=None, show=False, save_frames=False, save_txt=False, save_conf=False, save_crop=False, show_labels=True, show_conf=True, show_boxes=True, line_width=None, format=torchscript, keras=False, optimize=False, int8=False, dynamic=False, simplify=False, opset=None, workspace=4, nms=False, lr0=0.01, lrf=0.01, momentum=0.937, weight_decay=0.0005, warmup_epochs=3.0, warmup_momentum=0.8, warmup_bias_lr=0.1, box=7.5, cls=0.5, dfl=1.5, pose=12.0, kobj=1.0, label_smoothing=0.0, nbs=64, hsv_h=0.015, hsv_s=0.7, hsv_v=0.4, degrees=0.0, translate=0.1, scale=0.5, shear=0.0, perspective=0.0, flipud=0.0, fliplr=0.5, bgr=0.0, mosaic=1.0, mixup=0.0, copy_paste=0.0, auto_augment=randaugment, erasing=0.4, crop_fraction=1.0, cfg=None, tracker=botsort.yaml, save_dir=runs\\segment\\03\n",
      "Overriding model.yaml nc=80 with nc=12\n",
      "\n",
      "                   from  n    params  module                                       arguments                     \n",
      "  0                  -1  1       464  ultralytics.nn.modules.conv.Conv             [3, 16, 3, 2]                 \n",
      "  1                  -1  1      4672  ultralytics.nn.modules.conv.Conv             [16, 32, 3, 2]                \n",
      "  2                  -1  1      7360  ultralytics.nn.modules.block.C2f             [32, 32, 1, True]             \n",
      "  3                  -1  1     18560  ultralytics.nn.modules.conv.Conv             [32, 64, 3, 2]                \n",
      "  4                  -1  2     49664  ultralytics.nn.modules.block.C2f             [64, 64, 2, True]             \n",
      "  5                  -1  1     73984  ultralytics.nn.modules.conv.Conv             [64, 128, 3, 2]               \n",
      "  6                  -1  2    197632  ultralytics.nn.modules.block.C2f             [128, 128, 2, True]           \n",
      "  7                  -1  1    295424  ultralytics.nn.modules.conv.Conv             [128, 256, 3, 2]              \n",
      "  8                  -1  1    460288  ultralytics.nn.modules.block.C2f             [256, 256, 1, True]           \n",
      "  9                  -1  1    164608  ultralytics.nn.modules.block.SPPF            [256, 256, 5]                 \n",
      " 10                  -1  1         0  torch.nn.modules.upsampling.Upsample         [None, 2, 'nearest']          \n",
      " 11             [-1, 6]  1         0  ultralytics.nn.modules.conv.Concat           [1]                           \n",
      " 12                  -1  1    148224  ultralytics.nn.modules.block.C2f             [384, 128, 1]                 \n",
      " 13                  -1  1         0  torch.nn.modules.upsampling.Upsample         [None, 2, 'nearest']          \n",
      " 14             [-1, 4]  1         0  ultralytics.nn.modules.conv.Concat           [1]                           \n",
      " 15                  -1  1     37248  ultralytics.nn.modules.block.C2f             [192, 64, 1]                  \n",
      " 16                  -1  1     36992  ultralytics.nn.modules.conv.Conv             [64, 64, 3, 2]                \n",
      " 17            [-1, 12]  1         0  ultralytics.nn.modules.conv.Concat           [1]                           \n",
      " 18                  -1  1    123648  ultralytics.nn.modules.block.C2f             [192, 128, 1]                 \n",
      " 19                  -1  1    147712  ultralytics.nn.modules.conv.Conv             [128, 128, 3, 2]              \n",
      " 20             [-1, 9]  1         0  ultralytics.nn.modules.conv.Concat           [1]                           \n",
      " 21                  -1  1    493056  ultralytics.nn.modules.block.C2f             [384, 256, 1]                 \n",
      " 22        [15, 18, 21]  1   1006420  ultralytics.nn.modules.head.Segment          [12, 32, 64, [64, 128, 256]]  \n",
      "YOLOv8n-seg summary: 261 layers, 3,265,956 parameters, 3,265,940 gradients, 12.1 GFLOPs\n",
      "\n",
      "Transferred 381/417 items from pretrained weights\n",
      "Freezing layer 'model.22.dfl.conv.weight'\n"
     ]
    },
    {
     "name": "stderr",
     "output_type": "stream",
     "text": [
      "\u001b[34m\u001b[1mtrain: \u001b[0mScanning C:\\Users\\hal3k\\deeplabv3segmentation\\excavator_dataset_YOLO\\0\\labels\\train.cache... 616 images, 2 backgrounds, 0 corrupt: 100%|██████████| 616/616 [00:00<?, ?it/s]\n",
      "\u001b[34m\u001b[1mval: \u001b[0mScanning C:\\Users\\hal3k\\deeplabv3segmentation\\excavator_dataset_YOLO\\0\\labels\\val.cache... 116 images, 0 backgrounds, 0 corrupt: 100%|██████████| 116/116 [00:00<?, ?it/s]\n"
     ]
    },
    {
     "name": "stdout",
     "output_type": "stream",
     "text": [
      "Plotting labels to runs\\segment\\03\\labels.jpg... \n",
      "\u001b[34m\u001b[1moptimizer:\u001b[0m 'optimizer=auto' found, ignoring 'lr0=0.01' and 'momentum=0.937' and determining best 'optimizer', 'lr0' and 'momentum' automatically... \n",
      "\u001b[34m\u001b[1moptimizer:\u001b[0m AdamW(lr=0.000625, momentum=0.9) with parameter groups 66 weight(decay=0.0), 77 weight(decay=0.0005), 76 bias(decay=0.0)\n",
      "Image sizes 640 train, 640 val\n",
      "Using 0 dataloader workers\n",
      "Logging results to \u001b[1mruns\\segment\\03\u001b[0m\n",
      "Starting training for 1 epochs...\n",
      "\n",
      "      Epoch    GPU_mem   box_loss   seg_loss   cls_loss   dfl_loss  Instances       Size\n"
     ]
    },
    {
     "name": "stderr",
     "output_type": "stream",
     "text": [
      "        1/1         0G      1.634      3.641      3.908      1.664          8        640: 100%|██████████| 308/308 [03:36<00:00,  1.42it/s]\n",
      "                 Class     Images  Instances      Box(P          R      mAP50  mAP50-95)     Mask(P          R      mAP50  mAP50-95): 100%|██████████| 29/29 [00:23<00:00,  1.25it/s]\n"
     ]
    },
    {
     "name": "stdout",
     "output_type": "stream",
     "text": [
      "                   all        116        395      0.792     0.0649     0.0615     0.0291      0.767     0.0678     0.0465     0.0171\n",
      "\n",
      "1 epochs completed in 0.068 hours.\n",
      "Optimizer stripped from runs\\segment\\03\\weights\\last.pt, 6.8MB\n",
      "Optimizer stripped from runs\\segment\\03\\weights\\best.pt, 6.8MB\n",
      "\n",
      "Validating runs\\segment\\03\\weights\\best.pt...\n",
      "Ultralytics YOLOv8.2.75  Python-3.11.9 torch-2.3.1+cpu CPU (AMD Ryzen 9 5900HS with Radeon Graphics)\n",
      "YOLOv8n-seg summary (fused): 195 layers, 3,260,404 parameters, 0 gradients, 12.0 GFLOPs\n"
     ]
    },
    {
     "name": "stderr",
     "output_type": "stream",
     "text": [
      "                 Class     Images  Instances      Box(P          R      mAP50  mAP50-95)     Mask(P          R      mAP50  mAP50-95): 100%|██████████| 29/29 [00:18<00:00,  1.55it/s]\n"
     ]
    },
    {
     "name": "stdout",
     "output_type": "stream",
     "text": [
      "                   all        116        395      0.794     0.0657     0.0618     0.0293      0.767     0.0678     0.0468     0.0172\n",
      "             bulldozer          6          7          1          0          0          0          1          0          0          0\n",
      "                   car         10         50          1          0          0          0          1          0          0          0\n",
      "           caterpillar         46         70     0.0951     0.0286     0.0453     0.0168     0.0601     0.0429     0.0197    0.00598\n",
      "                 crane         24         33      0.294      0.576      0.396      0.172      0.152      0.485       0.26     0.0812\n",
      "               crusher         11         12          1          0     0.0014   0.000428          1          0    0.00103   0.000103\n",
      "               driller          4          4          1          0          0          0          1          0   0.000894   8.94e-05\n",
      "             excavator         23         56          1          0     0.0831     0.0453          1          0     0.0792     0.0225\n",
      "                 human         13         24          1          0    0.00104   0.000478          1          0   0.000534   0.000374\n",
      "                roller         26         26          1          0     0.0305      0.022          1          0     0.0279     0.0147\n",
      "               tractor          6         12          1          0    0.00477    0.00182          1          0    0.00493    0.00143\n",
      "                 truck         66        101      0.341      0.119      0.117     0.0628      0.224      0.218      0.121     0.0629\n",
      "Speed: 2.1ms preprocess, 101.8ms inference, 0.0ms loss, 7.0ms postprocess per image\n",
      "Results saved to \u001b[1mruns\\segment\\03\u001b[0m\n",
      "epochs: [1]\n",
      "seg_loss: [3.3974]\n",
      "mAP50_M: [0.05154]\n",
      "Plot saved to Results\\YOLO\\train\\training_data_plot_quality_0.png\n"
     ]
    },
    {
     "data": {
      "image/png": "[encoded data removed]",
      "text/plain": [
       "<Figure size 1600x800 with 2 Axes>"
      ]
     },
     "metadata": {},
     "output_type": "display_data"
    }
   ],
   "source": [
    "training_loop_YOLO()"
   ]
  },
  {
   "cell_type": "markdown",
   "metadata": {},
   "source": [
    "Test one model"
   ]
  },
  {
   "cell_type": "code",
   "execution_count": null,
   "metadata": {},
   "outputs": [],
   "source": [
    "# from sklearn.metrics import jaccard_score\n",
    "\n",
    "\n",
    "# def calculate_iou(pred_mask, true_mask):\n",
    "#     # Flatten masks to 1D arrays\n",
    "#     pred_mask_flat = pred_mask.flatten()\n",
    "#     true_mask_flat = true_mask.flatten()\n",
    "#     # Calculate IoU (Jaccard Index)\n",
    "#     iou = jaccard_score(true_mask_flat, pred_mask_flat, average='macro')\n",
    "#     return iou\n",
    "\n",
    "# def test_and_calculate_iou(model, test_img_dir, test_mask_dir):\n",
    "#     iou_scores = []\n",
    "    \n",
    "#     # Get list of test images and masks\n",
    "#     test_images = sorted([f for f in os.listdir(test_img_dir) if f.endswith('.jpg')])\n",
    "#     test_masks = sorted([f for f in os.listdir(test_mask_dir) if f.endswith('.png')])\n",
    "    \n",
    "#     for img_name, mask_name in zip(test_images, test_masks):\n",
    "#         img_path = os.path.join(test_img_dir, img_name)\n",
    "#         mask_path = os.path.join(test_mask_dir, mask_name)\n",
    "        \n",
    "#         # Load the image and mask\n",
    "#         img = cv2.imread(img_path)\n",
    "#         true_mask = cv2.imread(mask_path, cv2.IMREAD_GRAYSCALE)\n",
    "        \n",
    "#         # Perform inference\n",
    "#         results = model.predict(source=img, save=False)\n",
    "        \n",
    "#         # Assuming results return masks as a numpy array\n",
    "#         pred_mask = results.masks.data[0].cpu().numpy().astype(np.uint8)\n",
    "        \n",
    "#         # Resize prediction mask to match the ground truth mask dimensions if needed\n",
    "#         pred_mask = cv2.resize(pred_mask, (true_mask.shape[1], true_mask.shape[0]), interpolation=cv2.INTER_NEAREST)\n",
    "        \n",
    "#         # Calculate IoU for this image\n",
    "#         iou = calculate_iou(pred_mask, true_mask)\n",
    "#         iou_scores.append(iou)\n",
    "    \n",
    "#     # Calculate the average IoU\n",
    "#     avg_iou = np.mean(iou_scores)\n",
    "#     print(f\"Average IoU: {avg_iou}\")\n",
    "#     return avg_iou\n",
    "\n",
    "\n",
    "# def test_YOLO():\n",
    "#     model_path = \"{}{}{}{}{}\".format(\"models\",os.sep,\"best_models_YOLO\",os.sep,\"0.pt\")\n",
    "#     model = YOLO(model_path)\n",
    "#     model.eval()\n",
    "#     # loop for datasets of different quality:\n",
    "#     IOUs = []\n",
    "#     for i in range(0,101,1):\n",
    "#         masks_path = \"{}{}{}{}{}\".format(\"excavator_dataset_YOLO\",os.sep, str(i) , os.sep,'labels', 'test')\n",
    "#         images_path = \"{}{}{}{}{}\".format(\"excavator_dataset_YOLO\",os.sep, str(i) , os.sep,'images', 'test')\n",
    "#         avg_iou = test_and_calculate_iou(model, images_path, masks_path)\n",
    "#         IOUs.append(avg_iou)\n",
    "\n",
    "# test_YOLO()"
   ]
  },
  {
   "cell_type": "code",
   "execution_count": 17,
   "metadata": {},
   "outputs": [],
   "source": [
    "for i in range(0, 101):\n",
    "    data_path = os.path.join(\"excavator_dataset_YOLO\", str(i), 'excavators.yaml')\n",
    "    if not os.path.exists(data_path):\n",
    "        print(f\"Data path {data_path} does not exist\")"
   ]
  },
  {
   "cell_type": "code",
   "execution_count": 23,
   "metadata": {},
   "outputs": [],
   "source": [
    "from ultralytics import YOLO\n",
    "\n",
    "def test_YOLO():\n",
    "    model_path = \"{}{}{}{}{}\".format(\"models\",os.sep,\"best_models_YOLO\",os.sep,\"0.pt\")\n",
    "    print(model_path)\n",
    "    model = YOLO(model_path)\n",
    "    data_path = 'excavators.yaml'\n",
    "    results = model.val(data = data_path,  split='test', project = \"tests\" +str(0))\n",
    "    # loop for datasets of different quality:\n",
    "    IOUs = []\n",
    "    # for i in range(0,101,1):\n",
    "    #     data_path = \"{}{}{}{}{}\".format(\"excavator_dataset_YOLO\",os.sep, str(i) , os.sep,'excavators.yaml')\n",
    "    #     results = model.val(data = data_path,  split='test', project = \"tests\" +str(0), name = str(i))\n",
    "    #     print(results)\n",
    "\n",
    "# test_YOLO()"
   ]
  },
  {
   "cell_type": "markdown",
   "metadata": {},
   "source": [
    "Test models"
   ]
  },
  {
   "cell_type": "code",
   "execution_count": 27,
   "metadata": {},
   "outputs": [
    {
     "name": "stdout",
     "output_type": "stream",
     "text": [
      "models\\best_models_YOLO\\0.pt\n",
      "Ultralytics YOLOv8.2.75  Python-3.11.9 torch-2.3.1+cpu CPU (AMD Ryzen 9 5900HS with Radeon Graphics)\n",
      "YOLOv8n-seg summary (fused): 195 layers, 3,260,404 parameters, 0 gradients, 12.0 GFLOPs\n"
     ]
    },
    {
     "ename": "FileNotFoundError",
     "evalue": "\u001b[34m\u001b[1mval: \u001b[0mError loading data from None\nSee https://docs.ultralytics.com/datasets for dataset formatting guidance.",
     "output_type": "error",
     "traceback": [
      "\u001b[1;31m---------------------------------------------------------------------------\u001b[0m",
      "\u001b[1;31mTypeError\u001b[0m                                 Traceback (most recent call last)",
      "File \u001b[1;32m~\\AppData\\Local\\Packages\\PythonSoftwareFoundation.Python.3.11_qbz5n2kfra8p0\\LocalCache\\local-packages\\Python311\\site-packages\\ultralytics\\data\\base.py:104\u001b[0m, in \u001b[0;36mBaseDataset.get_img_files\u001b[1;34m(self, img_path)\u001b[0m\n\u001b[0;32m    103\u001b[0m \u001b[38;5;28;01mfor\u001b[39;00m p \u001b[38;5;129;01min\u001b[39;00m img_path \u001b[38;5;28;01mif\u001b[39;00m \u001b[38;5;28misinstance\u001b[39m(img_path, \u001b[38;5;28mlist\u001b[39m) \u001b[38;5;28;01melse\u001b[39;00m [img_path]:\n\u001b[1;32m--> 104\u001b[0m     p \u001b[38;5;241m=\u001b[39m \u001b[43mPath\u001b[49m\u001b[43m(\u001b[49m\u001b[43mp\u001b[49m\u001b[43m)\u001b[49m  \u001b[38;5;66;03m# os-agnostic\u001b[39;00m\n\u001b[0;32m    105\u001b[0m     \u001b[38;5;28;01mif\u001b[39;00m p\u001b[38;5;241m.\u001b[39mis_dir():  \u001b[38;5;66;03m# dir\u001b[39;00m\n",
      "File \u001b[1;32mC:\\Program Files\\WindowsApps\\PythonSoftwareFoundation.Python.3.11_3.11.2544.0_x64__qbz5n2kfra8p0\\Lib\\pathlib.py:871\u001b[0m, in \u001b[0;36mPath.__new__\u001b[1;34m(cls, *args, **kwargs)\u001b[0m\n\u001b[0;32m    870\u001b[0m     \u001b[38;5;28mcls\u001b[39m \u001b[38;5;241m=\u001b[39m WindowsPath \u001b[38;5;28;01mif\u001b[39;00m os\u001b[38;5;241m.\u001b[39mname \u001b[38;5;241m==\u001b[39m \u001b[38;5;124m'\u001b[39m\u001b[38;5;124mnt\u001b[39m\u001b[38;5;124m'\u001b[39m \u001b[38;5;28;01melse\u001b[39;00m PosixPath\n\u001b[1;32m--> 871\u001b[0m \u001b[38;5;28mself\u001b[39m \u001b[38;5;241m=\u001b[39m \u001b[38;5;28;43mcls\u001b[39;49m\u001b[38;5;241;43m.\u001b[39;49m\u001b[43m_from_parts\u001b[49m\u001b[43m(\u001b[49m\u001b[43margs\u001b[49m\u001b[43m)\u001b[49m\n\u001b[0;32m    872\u001b[0m \u001b[38;5;28;01mif\u001b[39;00m \u001b[38;5;129;01mnot\u001b[39;00m \u001b[38;5;28mself\u001b[39m\u001b[38;5;241m.\u001b[39m_flavour\u001b[38;5;241m.\u001b[39mis_supported:\n",
      "File \u001b[1;32mC:\\Program Files\\WindowsApps\\PythonSoftwareFoundation.Python.3.11_3.11.2544.0_x64__qbz5n2kfra8p0\\Lib\\pathlib.py:509\u001b[0m, in \u001b[0;36mPurePath._from_parts\u001b[1;34m(cls, args)\u001b[0m\n\u001b[0;32m    508\u001b[0m \u001b[38;5;28mself\u001b[39m \u001b[38;5;241m=\u001b[39m \u001b[38;5;28mobject\u001b[39m\u001b[38;5;241m.\u001b[39m\u001b[38;5;21m__new__\u001b[39m(\u001b[38;5;28mcls\u001b[39m)\n\u001b[1;32m--> 509\u001b[0m drv, root, parts \u001b[38;5;241m=\u001b[39m \u001b[38;5;28;43mself\u001b[39;49m\u001b[38;5;241;43m.\u001b[39;49m\u001b[43m_parse_args\u001b[49m\u001b[43m(\u001b[49m\u001b[43margs\u001b[49m\u001b[43m)\u001b[49m\n\u001b[0;32m    510\u001b[0m \u001b[38;5;28mself\u001b[39m\u001b[38;5;241m.\u001b[39m_drv \u001b[38;5;241m=\u001b[39m drv\n",
      "File \u001b[1;32mC:\\Program Files\\WindowsApps\\PythonSoftwareFoundation.Python.3.11_3.11.2544.0_x64__qbz5n2kfra8p0\\Lib\\pathlib.py:493\u001b[0m, in \u001b[0;36mPurePath._parse_args\u001b[1;34m(cls, args)\u001b[0m\n\u001b[0;32m    492\u001b[0m \u001b[38;5;28;01melse\u001b[39;00m:\n\u001b[1;32m--> 493\u001b[0m     a \u001b[38;5;241m=\u001b[39m os\u001b[38;5;241m.\u001b[39mfspath(a)\n\u001b[0;32m    494\u001b[0m     \u001b[38;5;28;01mif\u001b[39;00m \u001b[38;5;28misinstance\u001b[39m(a, \u001b[38;5;28mstr\u001b[39m):\n\u001b[0;32m    495\u001b[0m         \u001b[38;5;66;03m# Force-cast str subclasses to str (issue #21127)\u001b[39;00m\n",
      "\u001b[1;31mTypeError\u001b[0m: expected str, bytes or os.PathLike object, not NoneType",
      "\nThe above exception was the direct cause of the following exception:\n",
      "\u001b[1;31mFileNotFoundError\u001b[0m                         Traceback (most recent call last)",
      "Cell \u001b[1;32mIn[27], line 22\u001b[0m\n\u001b[0;32m     19\u001b[0m             \u001b[38;5;28mprint\u001b[39m(results) \u001b[38;5;66;03m# To visualize the result\u001b[39;00m\n\u001b[0;32m     20\u001b[0m             \u001b[38;5;66;03m# results.save(\"output_directory\")  # To save the result in an output directory\u001b[39;00m\n\u001b[1;32m---> 22\u001b[0m \u001b[43mtest_YOLO\u001b[49m\u001b[43m(\u001b[49m\u001b[43m)\u001b[49m       \n",
      "Cell \u001b[1;32mIn[23], line 8\u001b[0m, in \u001b[0;36mtest_YOLO\u001b[1;34m()\u001b[0m\n\u001b[0;32m      6\u001b[0m model \u001b[38;5;241m=\u001b[39m YOLO(model_path)\n\u001b[0;32m      7\u001b[0m data_path \u001b[38;5;241m=\u001b[39m \u001b[38;5;124m'\u001b[39m\u001b[38;5;124mexcavators.yaml\u001b[39m\u001b[38;5;124m'\u001b[39m\n\u001b[1;32m----> 8\u001b[0m results \u001b[38;5;241m=\u001b[39m \u001b[43mmodel\u001b[49m\u001b[38;5;241;43m.\u001b[39;49m\u001b[43mval\u001b[49m\u001b[43m(\u001b[49m\u001b[43mdata\u001b[49m\u001b[43m \u001b[49m\u001b[38;5;241;43m=\u001b[39;49m\u001b[43m \u001b[49m\u001b[43mdata_path\u001b[49m\u001b[43m,\u001b[49m\u001b[43m  \u001b[49m\u001b[43msplit\u001b[49m\u001b[38;5;241;43m=\u001b[39;49m\u001b[38;5;124;43m'\u001b[39;49m\u001b[38;5;124;43mtest\u001b[39;49m\u001b[38;5;124;43m'\u001b[39;49m\u001b[43m,\u001b[49m\u001b[43m \u001b[49m\u001b[43mproject\u001b[49m\u001b[43m \u001b[49m\u001b[38;5;241;43m=\u001b[39;49m\u001b[43m \u001b[49m\u001b[38;5;124;43m\"\u001b[39;49m\u001b[38;5;124;43mtests\u001b[39;49m\u001b[38;5;124;43m\"\u001b[39;49m\u001b[43m \u001b[49m\u001b[38;5;241;43m+\u001b[39;49m\u001b[38;5;28;43mstr\u001b[39;49m\u001b[43m(\u001b[49m\u001b[38;5;241;43m0\u001b[39;49m\u001b[43m)\u001b[49m\u001b[43m)\u001b[49m\n\u001b[0;32m      9\u001b[0m \u001b[38;5;66;03m# loop for datasets of different quality:\u001b[39;00m\n\u001b[0;32m     10\u001b[0m IOUs \u001b[38;5;241m=\u001b[39m []\n",
      "File \u001b[1;32m~\\AppData\\Local\\Packages\\PythonSoftwareFoundation.Python.3.11_qbz5n2kfra8p0\\LocalCache\\local-packages\\Python311\\site-packages\\ultralytics\\engine\\model.py:644\u001b[0m, in \u001b[0;36mModel.val\u001b[1;34m(self, validator, **kwargs)\u001b[0m\n\u001b[0;32m    641\u001b[0m args \u001b[38;5;241m=\u001b[39m {\u001b[38;5;241m*\u001b[39m\u001b[38;5;241m*\u001b[39m\u001b[38;5;28mself\u001b[39m\u001b[38;5;241m.\u001b[39moverrides, \u001b[38;5;241m*\u001b[39m\u001b[38;5;241m*\u001b[39mcustom, \u001b[38;5;241m*\u001b[39m\u001b[38;5;241m*\u001b[39mkwargs, \u001b[38;5;124m\"\u001b[39m\u001b[38;5;124mmode\u001b[39m\u001b[38;5;124m\"\u001b[39m: \u001b[38;5;124m\"\u001b[39m\u001b[38;5;124mval\u001b[39m\u001b[38;5;124m\"\u001b[39m}  \u001b[38;5;66;03m# highest priority args on the right\u001b[39;00m\n\u001b[0;32m    643\u001b[0m validator \u001b[38;5;241m=\u001b[39m (validator \u001b[38;5;129;01mor\u001b[39;00m \u001b[38;5;28mself\u001b[39m\u001b[38;5;241m.\u001b[39m_smart_load(\u001b[38;5;124m\"\u001b[39m\u001b[38;5;124mvalidator\u001b[39m\u001b[38;5;124m\"\u001b[39m))(args\u001b[38;5;241m=\u001b[39margs, _callbacks\u001b[38;5;241m=\u001b[39m\u001b[38;5;28mself\u001b[39m\u001b[38;5;241m.\u001b[39mcallbacks)\n\u001b[1;32m--> 644\u001b[0m \u001b[43mvalidator\u001b[49m\u001b[43m(\u001b[49m\u001b[43mmodel\u001b[49m\u001b[38;5;241;43m=\u001b[39;49m\u001b[38;5;28;43mself\u001b[39;49m\u001b[38;5;241;43m.\u001b[39;49m\u001b[43mmodel\u001b[49m\u001b[43m)\u001b[49m\n\u001b[0;32m    645\u001b[0m \u001b[38;5;28mself\u001b[39m\u001b[38;5;241m.\u001b[39mmetrics \u001b[38;5;241m=\u001b[39m validator\u001b[38;5;241m.\u001b[39mmetrics\n\u001b[0;32m    646\u001b[0m \u001b[38;5;28;01mreturn\u001b[39;00m validator\u001b[38;5;241m.\u001b[39mmetrics\n",
      "File \u001b[1;32m~\\AppData\\Local\\Packages\\PythonSoftwareFoundation.Python.3.11_qbz5n2kfra8p0\\LocalCache\\local-packages\\Python311\\site-packages\\torch\\utils\\_contextlib.py:115\u001b[0m, in \u001b[0;36mcontext_decorator.<locals>.decorate_context\u001b[1;34m(*args, **kwargs)\u001b[0m\n\u001b[0;32m    112\u001b[0m \u001b[38;5;129m@functools\u001b[39m\u001b[38;5;241m.\u001b[39mwraps(func)\n\u001b[0;32m    113\u001b[0m \u001b[38;5;28;01mdef\u001b[39;00m \u001b[38;5;21mdecorate_context\u001b[39m(\u001b[38;5;241m*\u001b[39margs, \u001b[38;5;241m*\u001b[39m\u001b[38;5;241m*\u001b[39mkwargs):\n\u001b[0;32m    114\u001b[0m     \u001b[38;5;28;01mwith\u001b[39;00m ctx_factory():\n\u001b[1;32m--> 115\u001b[0m         \u001b[38;5;28;01mreturn\u001b[39;00m \u001b[43mfunc\u001b[49m\u001b[43m(\u001b[49m\u001b[38;5;241;43m*\u001b[39;49m\u001b[43margs\u001b[49m\u001b[43m,\u001b[49m\u001b[43m \u001b[49m\u001b[38;5;241;43m*\u001b[39;49m\u001b[38;5;241;43m*\u001b[39;49m\u001b[43mkwargs\u001b[49m\u001b[43m)\u001b[49m\n",
      "File \u001b[1;32m~\\AppData\\Local\\Packages\\PythonSoftwareFoundation.Python.3.11_qbz5n2kfra8p0\\LocalCache\\local-packages\\Python311\\site-packages\\ultralytics\\engine\\validator.py:154\u001b[0m, in \u001b[0;36mBaseValidator.__call__\u001b[1;34m(self, trainer, model)\u001b[0m\n\u001b[0;32m    152\u001b[0m     \u001b[38;5;28mself\u001b[39m\u001b[38;5;241m.\u001b[39margs\u001b[38;5;241m.\u001b[39mrect \u001b[38;5;241m=\u001b[39m \u001b[38;5;28;01mFalse\u001b[39;00m\n\u001b[0;32m    153\u001b[0m \u001b[38;5;28mself\u001b[39m\u001b[38;5;241m.\u001b[39mstride \u001b[38;5;241m=\u001b[39m model\u001b[38;5;241m.\u001b[39mstride  \u001b[38;5;66;03m# used in get_dataloader() for padding\u001b[39;00m\n\u001b[1;32m--> 154\u001b[0m \u001b[38;5;28mself\u001b[39m\u001b[38;5;241m.\u001b[39mdataloader \u001b[38;5;241m=\u001b[39m \u001b[38;5;28mself\u001b[39m\u001b[38;5;241m.\u001b[39mdataloader \u001b[38;5;129;01mor\u001b[39;00m \u001b[38;5;28;43mself\u001b[39;49m\u001b[38;5;241;43m.\u001b[39;49m\u001b[43mget_dataloader\u001b[49m\u001b[43m(\u001b[49m\u001b[38;5;28;43mself\u001b[39;49m\u001b[38;5;241;43m.\u001b[39;49m\u001b[43mdata\u001b[49m\u001b[38;5;241;43m.\u001b[39;49m\u001b[43mget\u001b[49m\u001b[43m(\u001b[49m\u001b[38;5;28;43mself\u001b[39;49m\u001b[38;5;241;43m.\u001b[39;49m\u001b[43margs\u001b[49m\u001b[38;5;241;43m.\u001b[39;49m\u001b[43msplit\u001b[49m\u001b[43m)\u001b[49m\u001b[43m,\u001b[49m\u001b[43m \u001b[49m\u001b[38;5;28;43mself\u001b[39;49m\u001b[38;5;241;43m.\u001b[39;49m\u001b[43margs\u001b[49m\u001b[38;5;241;43m.\u001b[39;49m\u001b[43mbatch\u001b[49m\u001b[43m)\u001b[49m\n\u001b[0;32m    156\u001b[0m model\u001b[38;5;241m.\u001b[39meval()\n\u001b[0;32m    157\u001b[0m model\u001b[38;5;241m.\u001b[39mwarmup(imgsz\u001b[38;5;241m=\u001b[39m(\u001b[38;5;241m1\u001b[39m \u001b[38;5;28;01mif\u001b[39;00m pt \u001b[38;5;28;01melse\u001b[39;00m \u001b[38;5;28mself\u001b[39m\u001b[38;5;241m.\u001b[39margs\u001b[38;5;241m.\u001b[39mbatch, \u001b[38;5;241m3\u001b[39m, imgsz, imgsz))  \u001b[38;5;66;03m# warmup\u001b[39;00m\n",
      "File \u001b[1;32m~\\AppData\\Local\\Packages\\PythonSoftwareFoundation.Python.3.11_qbz5n2kfra8p0\\LocalCache\\local-packages\\Python311\\site-packages\\ultralytics\\models\\yolo\\detect\\val.py:243\u001b[0m, in \u001b[0;36mDetectionValidator.get_dataloader\u001b[1;34m(self, dataset_path, batch_size)\u001b[0m\n\u001b[0;32m    241\u001b[0m \u001b[38;5;28;01mdef\u001b[39;00m \u001b[38;5;21mget_dataloader\u001b[39m(\u001b[38;5;28mself\u001b[39m, dataset_path, batch_size):\n\u001b[0;32m    242\u001b[0m \u001b[38;5;250m    \u001b[39m\u001b[38;5;124;03m\"\"\"Construct and return dataloader.\"\"\"\u001b[39;00m\n\u001b[1;32m--> 243\u001b[0m     dataset \u001b[38;5;241m=\u001b[39m \u001b[38;5;28;43mself\u001b[39;49m\u001b[38;5;241;43m.\u001b[39;49m\u001b[43mbuild_dataset\u001b[49m\u001b[43m(\u001b[49m\u001b[43mdataset_path\u001b[49m\u001b[43m,\u001b[49m\u001b[43m \u001b[49m\u001b[43mbatch\u001b[49m\u001b[38;5;241;43m=\u001b[39;49m\u001b[43mbatch_size\u001b[49m\u001b[43m,\u001b[49m\u001b[43m \u001b[49m\u001b[43mmode\u001b[49m\u001b[38;5;241;43m=\u001b[39;49m\u001b[38;5;124;43m\"\u001b[39;49m\u001b[38;5;124;43mval\u001b[39;49m\u001b[38;5;124;43m\"\u001b[39;49m\u001b[43m)\u001b[49m\n\u001b[0;32m    244\u001b[0m     \u001b[38;5;28;01mreturn\u001b[39;00m build_dataloader(dataset, batch_size, \u001b[38;5;28mself\u001b[39m\u001b[38;5;241m.\u001b[39margs\u001b[38;5;241m.\u001b[39mworkers, shuffle\u001b[38;5;241m=\u001b[39m\u001b[38;5;28;01mFalse\u001b[39;00m, rank\u001b[38;5;241m=\u001b[39m\u001b[38;5;241m-\u001b[39m\u001b[38;5;241m1\u001b[39m)\n",
      "File \u001b[1;32m~\\AppData\\Local\\Packages\\PythonSoftwareFoundation.Python.3.11_qbz5n2kfra8p0\\LocalCache\\local-packages\\Python311\\site-packages\\ultralytics\\models\\yolo\\detect\\val.py:239\u001b[0m, in \u001b[0;36mDetectionValidator.build_dataset\u001b[1;34m(self, img_path, mode, batch)\u001b[0m\n\u001b[0;32m    230\u001b[0m \u001b[38;5;28;01mdef\u001b[39;00m \u001b[38;5;21mbuild_dataset\u001b[39m(\u001b[38;5;28mself\u001b[39m, img_path, mode\u001b[38;5;241m=\u001b[39m\u001b[38;5;124m\"\u001b[39m\u001b[38;5;124mval\u001b[39m\u001b[38;5;124m\"\u001b[39m, batch\u001b[38;5;241m=\u001b[39m\u001b[38;5;28;01mNone\u001b[39;00m):\n\u001b[0;32m    231\u001b[0m \u001b[38;5;250m    \u001b[39m\u001b[38;5;124;03m\"\"\"\u001b[39;00m\n\u001b[0;32m    232\u001b[0m \u001b[38;5;124;03m    Build YOLO Dataset.\u001b[39;00m\n\u001b[0;32m    233\u001b[0m \n\u001b[1;32m   (...)\u001b[0m\n\u001b[0;32m    237\u001b[0m \u001b[38;5;124;03m        batch (int, optional): Size of batches, this is for `rect`. Defaults to None.\u001b[39;00m\n\u001b[0;32m    238\u001b[0m \u001b[38;5;124;03m    \"\"\"\u001b[39;00m\n\u001b[1;32m--> 239\u001b[0m     \u001b[38;5;28;01mreturn\u001b[39;00m \u001b[43mbuild_yolo_dataset\u001b[49m\u001b[43m(\u001b[49m\u001b[38;5;28;43mself\u001b[39;49m\u001b[38;5;241;43m.\u001b[39;49m\u001b[43margs\u001b[49m\u001b[43m,\u001b[49m\u001b[43m \u001b[49m\u001b[43mimg_path\u001b[49m\u001b[43m,\u001b[49m\u001b[43m \u001b[49m\u001b[43mbatch\u001b[49m\u001b[43m,\u001b[49m\u001b[43m \u001b[49m\u001b[38;5;28;43mself\u001b[39;49m\u001b[38;5;241;43m.\u001b[39;49m\u001b[43mdata\u001b[49m\u001b[43m,\u001b[49m\u001b[43m \u001b[49m\u001b[43mmode\u001b[49m\u001b[38;5;241;43m=\u001b[39;49m\u001b[43mmode\u001b[49m\u001b[43m,\u001b[49m\u001b[43m \u001b[49m\u001b[43mstride\u001b[49m\u001b[38;5;241;43m=\u001b[39;49m\u001b[38;5;28;43mself\u001b[39;49m\u001b[38;5;241;43m.\u001b[39;49m\u001b[43mstride\u001b[49m\u001b[43m)\u001b[49m\n",
      "File \u001b[1;32m~\\AppData\\Local\\Packages\\PythonSoftwareFoundation.Python.3.11_qbz5n2kfra8p0\\LocalCache\\local-packages\\Python311\\site-packages\\ultralytics\\data\\build.py:87\u001b[0m, in \u001b[0;36mbuild_yolo_dataset\u001b[1;34m(cfg, img_path, batch, data, mode, rect, stride, multi_modal)\u001b[0m\n\u001b[0;32m     85\u001b[0m \u001b[38;5;250m\u001b[39m\u001b[38;5;124;03m\"\"\"Build YOLO Dataset.\"\"\"\u001b[39;00m\n\u001b[0;32m     86\u001b[0m dataset \u001b[38;5;241m=\u001b[39m YOLOMultiModalDataset \u001b[38;5;28;01mif\u001b[39;00m multi_modal \u001b[38;5;28;01melse\u001b[39;00m YOLODataset\n\u001b[1;32m---> 87\u001b[0m \u001b[38;5;28;01mreturn\u001b[39;00m \u001b[43mdataset\u001b[49m\u001b[43m(\u001b[49m\n\u001b[0;32m     88\u001b[0m \u001b[43m    \u001b[49m\u001b[43mimg_path\u001b[49m\u001b[38;5;241;43m=\u001b[39;49m\u001b[43mimg_path\u001b[49m\u001b[43m,\u001b[49m\n\u001b[0;32m     89\u001b[0m \u001b[43m    \u001b[49m\u001b[43mimgsz\u001b[49m\u001b[38;5;241;43m=\u001b[39;49m\u001b[43mcfg\u001b[49m\u001b[38;5;241;43m.\u001b[39;49m\u001b[43mimgsz\u001b[49m\u001b[43m,\u001b[49m\n\u001b[0;32m     90\u001b[0m \u001b[43m    \u001b[49m\u001b[43mbatch_size\u001b[49m\u001b[38;5;241;43m=\u001b[39;49m\u001b[43mbatch\u001b[49m\u001b[43m,\u001b[49m\n\u001b[0;32m     91\u001b[0m \u001b[43m    \u001b[49m\u001b[43maugment\u001b[49m\u001b[38;5;241;43m=\u001b[39;49m\u001b[43mmode\u001b[49m\u001b[43m \u001b[49m\u001b[38;5;241;43m==\u001b[39;49m\u001b[43m \u001b[49m\u001b[38;5;124;43m\"\u001b[39;49m\u001b[38;5;124;43mtrain\u001b[39;49m\u001b[38;5;124;43m\"\u001b[39;49m\u001b[43m,\u001b[49m\u001b[43m  \u001b[49m\u001b[38;5;66;43;03m# augmentation\u001b[39;49;00m\n\u001b[0;32m     92\u001b[0m \u001b[43m    \u001b[49m\u001b[43mhyp\u001b[49m\u001b[38;5;241;43m=\u001b[39;49m\u001b[43mcfg\u001b[49m\u001b[43m,\u001b[49m\u001b[43m  \u001b[49m\u001b[38;5;66;43;03m# TODO: probably add a get_hyps_from_cfg function\u001b[39;49;00m\n\u001b[0;32m     93\u001b[0m \u001b[43m    \u001b[49m\u001b[43mrect\u001b[49m\u001b[38;5;241;43m=\u001b[39;49m\u001b[43mcfg\u001b[49m\u001b[38;5;241;43m.\u001b[39;49m\u001b[43mrect\u001b[49m\u001b[43m \u001b[49m\u001b[38;5;129;43;01mor\u001b[39;49;00m\u001b[43m \u001b[49m\u001b[43mrect\u001b[49m\u001b[43m,\u001b[49m\u001b[43m  \u001b[49m\u001b[38;5;66;43;03m# rectangular batches\u001b[39;49;00m\n\u001b[0;32m     94\u001b[0m \u001b[43m    \u001b[49m\u001b[43mcache\u001b[49m\u001b[38;5;241;43m=\u001b[39;49m\u001b[43mcfg\u001b[49m\u001b[38;5;241;43m.\u001b[39;49m\u001b[43mcache\u001b[49m\u001b[43m \u001b[49m\u001b[38;5;129;43;01mor\u001b[39;49;00m\u001b[43m \u001b[49m\u001b[38;5;28;43;01mNone\u001b[39;49;00m\u001b[43m,\u001b[49m\n\u001b[0;32m     95\u001b[0m \u001b[43m    \u001b[49m\u001b[43msingle_cls\u001b[49m\u001b[38;5;241;43m=\u001b[39;49m\u001b[43mcfg\u001b[49m\u001b[38;5;241;43m.\u001b[39;49m\u001b[43msingle_cls\u001b[49m\u001b[43m \u001b[49m\u001b[38;5;129;43;01mor\u001b[39;49;00m\u001b[43m \u001b[49m\u001b[38;5;28;43;01mFalse\u001b[39;49;00m\u001b[43m,\u001b[49m\n\u001b[0;32m     96\u001b[0m \u001b[43m    \u001b[49m\u001b[43mstride\u001b[49m\u001b[38;5;241;43m=\u001b[39;49m\u001b[38;5;28;43mint\u001b[39;49m\u001b[43m(\u001b[49m\u001b[43mstride\u001b[49m\u001b[43m)\u001b[49m\u001b[43m,\u001b[49m\n\u001b[0;32m     97\u001b[0m \u001b[43m    \u001b[49m\u001b[43mpad\u001b[49m\u001b[38;5;241;43m=\u001b[39;49m\u001b[38;5;241;43m0.0\u001b[39;49m\u001b[43m \u001b[49m\u001b[38;5;28;43;01mif\u001b[39;49;00m\u001b[43m \u001b[49m\u001b[43mmode\u001b[49m\u001b[43m \u001b[49m\u001b[38;5;241;43m==\u001b[39;49m\u001b[43m \u001b[49m\u001b[38;5;124;43m\"\u001b[39;49m\u001b[38;5;124;43mtrain\u001b[39;49m\u001b[38;5;124;43m\"\u001b[39;49m\u001b[43m \u001b[49m\u001b[38;5;28;43;01melse\u001b[39;49;00m\u001b[43m \u001b[49m\u001b[38;5;241;43m0.5\u001b[39;49m\u001b[43m,\u001b[49m\n\u001b[0;32m     98\u001b[0m \u001b[43m    \u001b[49m\u001b[43mprefix\u001b[49m\u001b[38;5;241;43m=\u001b[39;49m\u001b[43mcolorstr\u001b[49m\u001b[43m(\u001b[49m\u001b[38;5;124;43mf\u001b[39;49m\u001b[38;5;124;43m\"\u001b[39;49m\u001b[38;5;132;43;01m{\u001b[39;49;00m\u001b[43mmode\u001b[49m\u001b[38;5;132;43;01m}\u001b[39;49;00m\u001b[38;5;124;43m: \u001b[39;49m\u001b[38;5;124;43m\"\u001b[39;49m\u001b[43m)\u001b[49m\u001b[43m,\u001b[49m\n\u001b[0;32m     99\u001b[0m \u001b[43m    \u001b[49m\u001b[43mtask\u001b[49m\u001b[38;5;241;43m=\u001b[39;49m\u001b[43mcfg\u001b[49m\u001b[38;5;241;43m.\u001b[39;49m\u001b[43mtask\u001b[49m\u001b[43m,\u001b[49m\n\u001b[0;32m    100\u001b[0m \u001b[43m    \u001b[49m\u001b[43mclasses\u001b[49m\u001b[38;5;241;43m=\u001b[39;49m\u001b[43mcfg\u001b[49m\u001b[38;5;241;43m.\u001b[39;49m\u001b[43mclasses\u001b[49m\u001b[43m,\u001b[49m\n\u001b[0;32m    101\u001b[0m \u001b[43m    \u001b[49m\u001b[43mdata\u001b[49m\u001b[38;5;241;43m=\u001b[39;49m\u001b[43mdata\u001b[49m\u001b[43m,\u001b[49m\n\u001b[0;32m    102\u001b[0m \u001b[43m    \u001b[49m\u001b[43mfraction\u001b[49m\u001b[38;5;241;43m=\u001b[39;49m\u001b[43mcfg\u001b[49m\u001b[38;5;241;43m.\u001b[39;49m\u001b[43mfraction\u001b[49m\u001b[43m \u001b[49m\u001b[38;5;28;43;01mif\u001b[39;49;00m\u001b[43m \u001b[49m\u001b[43mmode\u001b[49m\u001b[43m \u001b[49m\u001b[38;5;241;43m==\u001b[39;49m\u001b[43m \u001b[49m\u001b[38;5;124;43m\"\u001b[39;49m\u001b[38;5;124;43mtrain\u001b[39;49m\u001b[38;5;124;43m\"\u001b[39;49m\u001b[43m \u001b[49m\u001b[38;5;28;43;01melse\u001b[39;49;00m\u001b[43m \u001b[49m\u001b[38;5;241;43m1.0\u001b[39;49m\u001b[43m,\u001b[49m\n\u001b[0;32m    103\u001b[0m \u001b[43m\u001b[49m\u001b[43m)\u001b[49m\n",
      "File \u001b[1;32m~\\AppData\\Local\\Packages\\PythonSoftwareFoundation.Python.3.11_qbz5n2kfra8p0\\LocalCache\\local-packages\\Python311\\site-packages\\ultralytics\\data\\dataset.py:65\u001b[0m, in \u001b[0;36mYOLODataset.__init__\u001b[1;34m(self, data, task, *args, **kwargs)\u001b[0m\n\u001b[0;32m     63\u001b[0m \u001b[38;5;28mself\u001b[39m\u001b[38;5;241m.\u001b[39mdata \u001b[38;5;241m=\u001b[39m data\n\u001b[0;32m     64\u001b[0m \u001b[38;5;28;01massert\u001b[39;00m \u001b[38;5;129;01mnot\u001b[39;00m (\u001b[38;5;28mself\u001b[39m\u001b[38;5;241m.\u001b[39muse_segments \u001b[38;5;129;01mand\u001b[39;00m \u001b[38;5;28mself\u001b[39m\u001b[38;5;241m.\u001b[39muse_keypoints), \u001b[38;5;124m\"\u001b[39m\u001b[38;5;124mCan not use both segments and keypoints.\u001b[39m\u001b[38;5;124m\"\u001b[39m\n\u001b[1;32m---> 65\u001b[0m \u001b[38;5;28;43msuper\u001b[39;49m\u001b[43m(\u001b[49m\u001b[43m)\u001b[49m\u001b[38;5;241;43m.\u001b[39;49m\u001b[38;5;21;43m__init__\u001b[39;49m\u001b[43m(\u001b[49m\u001b[38;5;241;43m*\u001b[39;49m\u001b[43margs\u001b[49m\u001b[43m,\u001b[49m\u001b[43m \u001b[49m\u001b[38;5;241;43m*\u001b[39;49m\u001b[38;5;241;43m*\u001b[39;49m\u001b[43mkwargs\u001b[49m\u001b[43m)\u001b[49m\n",
      "File \u001b[1;32m~\\AppData\\Local\\Packages\\PythonSoftwareFoundation.Python.3.11_qbz5n2kfra8p0\\LocalCache\\local-packages\\Python311\\site-packages\\ultralytics\\data\\base.py:73\u001b[0m, in \u001b[0;36mBaseDataset.__init__\u001b[1;34m(self, img_path, imgsz, cache, augment, hyp, prefix, rect, batch_size, stride, pad, single_cls, classes, fraction)\u001b[0m\n\u001b[0;32m     71\u001b[0m \u001b[38;5;28mself\u001b[39m\u001b[38;5;241m.\u001b[39mprefix \u001b[38;5;241m=\u001b[39m prefix\n\u001b[0;32m     72\u001b[0m \u001b[38;5;28mself\u001b[39m\u001b[38;5;241m.\u001b[39mfraction \u001b[38;5;241m=\u001b[39m fraction\n\u001b[1;32m---> 73\u001b[0m \u001b[38;5;28mself\u001b[39m\u001b[38;5;241m.\u001b[39mim_files \u001b[38;5;241m=\u001b[39m \u001b[38;5;28;43mself\u001b[39;49m\u001b[38;5;241;43m.\u001b[39;49m\u001b[43mget_img_files\u001b[49m\u001b[43m(\u001b[49m\u001b[38;5;28;43mself\u001b[39;49m\u001b[38;5;241;43m.\u001b[39;49m\u001b[43mimg_path\u001b[49m\u001b[43m)\u001b[49m\n\u001b[0;32m     74\u001b[0m \u001b[38;5;28mself\u001b[39m\u001b[38;5;241m.\u001b[39mlabels \u001b[38;5;241m=\u001b[39m \u001b[38;5;28mself\u001b[39m\u001b[38;5;241m.\u001b[39mget_labels()\n\u001b[0;32m     75\u001b[0m \u001b[38;5;28mself\u001b[39m\u001b[38;5;241m.\u001b[39mupdate_labels(include_class\u001b[38;5;241m=\u001b[39mclasses)  \u001b[38;5;66;03m# single_cls and include_class\u001b[39;00m\n",
      "File \u001b[1;32m~\\AppData\\Local\\Packages\\PythonSoftwareFoundation.Python.3.11_qbz5n2kfra8p0\\LocalCache\\local-packages\\Python311\\site-packages\\ultralytics\\data\\base.py:120\u001b[0m, in \u001b[0;36mBaseDataset.get_img_files\u001b[1;34m(self, img_path)\u001b[0m\n\u001b[0;32m    118\u001b[0m     \u001b[38;5;28;01massert\u001b[39;00m im_files, \u001b[38;5;124mf\u001b[39m\u001b[38;5;124m\"\u001b[39m\u001b[38;5;132;01m{\u001b[39;00m\u001b[38;5;28mself\u001b[39m\u001b[38;5;241m.\u001b[39mprefix\u001b[38;5;132;01m}\u001b[39;00m\u001b[38;5;124mNo images found in \u001b[39m\u001b[38;5;132;01m{\u001b[39;00mimg_path\u001b[38;5;132;01m}\u001b[39;00m\u001b[38;5;124m. \u001b[39m\u001b[38;5;132;01m{\u001b[39;00mFORMATS_HELP_MSG\u001b[38;5;132;01m}\u001b[39;00m\u001b[38;5;124m\"\u001b[39m\n\u001b[0;32m    119\u001b[0m \u001b[38;5;28;01mexcept\u001b[39;00m \u001b[38;5;167;01mException\u001b[39;00m \u001b[38;5;28;01mas\u001b[39;00m e:\n\u001b[1;32m--> 120\u001b[0m     \u001b[38;5;28;01mraise\u001b[39;00m \u001b[38;5;167;01mFileNotFoundError\u001b[39;00m(\u001b[38;5;124mf\u001b[39m\u001b[38;5;124m\"\u001b[39m\u001b[38;5;132;01m{\u001b[39;00m\u001b[38;5;28mself\u001b[39m\u001b[38;5;241m.\u001b[39mprefix\u001b[38;5;132;01m}\u001b[39;00m\u001b[38;5;124mError loading data from \u001b[39m\u001b[38;5;132;01m{\u001b[39;00mimg_path\u001b[38;5;132;01m}\u001b[39;00m\u001b[38;5;130;01m\\n\u001b[39;00m\u001b[38;5;132;01m{\u001b[39;00mHELP_URL\u001b[38;5;132;01m}\u001b[39;00m\u001b[38;5;124m\"\u001b[39m) \u001b[38;5;28;01mfrom\u001b[39;00m \u001b[38;5;21;01me\u001b[39;00m\n\u001b[0;32m    121\u001b[0m \u001b[38;5;28;01mif\u001b[39;00m \u001b[38;5;28mself\u001b[39m\u001b[38;5;241m.\u001b[39mfraction \u001b[38;5;241m<\u001b[39m \u001b[38;5;241m1\u001b[39m:\n\u001b[0;32m    122\u001b[0m     im_files \u001b[38;5;241m=\u001b[39m im_files[: \u001b[38;5;28mround\u001b[39m(\u001b[38;5;28mlen\u001b[39m(im_files) \u001b[38;5;241m*\u001b[39m \u001b[38;5;28mself\u001b[39m\u001b[38;5;241m.\u001b[39mfraction)]  \u001b[38;5;66;03m# retain a fraction of the dataset\u001b[39;00m\n",
      "\u001b[1;31mFileNotFoundError\u001b[0m: \u001b[34m\u001b[1mval: \u001b[0mError loading data from None\nSee https://docs.ultralytics.com/datasets for dataset formatting guidance."
     ]
    }
   ],
   "source": [
    "def test_YOLO_loop():\n",
    "    for q in range (0,101, step_size):\n",
    "        # load the model\n",
    "        model_path = \"{}{}{}{}{}\".format('models', os.sep,'best_models_YOLO',os.sep,\"{}.pt\".format(q))\n",
    "        print(model_path)\n",
    "        model =  YOLO(model_path)\n",
    "        i = q\n",
    "        # Path to your dataset's images\n",
    "        image_dir = \"{}{}{}{}{}{}{}\".format(\"excavator_dataset_YOLO\",os.sep,str(i), os.sep, 'images', os.sep, 'test')\n",
    "        print(image_dir)\n",
    "        # List all images in the directory\n",
    "        image_files = [os.path.join(image_dir, img) for img in os.listdir(image_dir) if img.endswith(('.jpg', '.png'))]\n",
    "\n",
    "        # Run inference on each image\n",
    "        for image_path in image_files:\n",
    "            results = model.val(data = data_path,  split='test', project = \"tests\" +str(0))\n",
    "            \n",
    "            # Show or save results\n",
    "            print(results) # To visualize the result\n",
    "            # results.save(\"output_directory\")  # To save the result in an output directory\n",
    "\n",
    "test_YOLO()       "
   ]
  }
 ],
 "metadata": {
  "kernelspec": {
   "display_name": "Python 3",
   "language": "python",
   "name": "python3"
  },
  "language_info": {
   "codemirror_mode": {
    "name": "ipython",
    "version": 3
   },
   "file_extension": ".py",
   "mimetype": "text/x-python",
   "name": "python",
   "nbconvert_exporter": "python",
   "pygments_lexer": "ipython3",
   "version": "3.11.9"
  }
 },
 "nbformat": 4,
 "nbformat_minor": 2
}
